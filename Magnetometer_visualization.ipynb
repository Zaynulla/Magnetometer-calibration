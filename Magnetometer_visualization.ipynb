{
 "cells": [
  {
   "cell_type": "code",
   "execution_count": 1,
   "metadata": {
    "collapsed": true
   },
   "outputs": [],
   "source": [
    "from __future__ import print_function\n",
    "\n",
    "from IPython.display import display, clear_output\n",
    "\n",
    "from ipywidgets import interact, interactive, fixed, interact_manual\n",
    "import ipywidgets as widgets\n",
    "\n",
    "# for data import from files\n",
    "import pandas as pd\n",
    "\n",
    "# for open filedialog\n",
    "from tkinter import filedialog\n",
    "from tkinter import *\n",
    "\n",
    "# for plotly graphics (alternative to matplotlib method)\n",
    "import plotly\n",
    "from plotly.graph_objs import Scatter, Layout, Data, Surface\n",
    "import plotly.plotly as py\n",
    "import plotly.graph_objs as go\n",
    "\n",
    "\n",
    "import numpy as np\n",
    "from numpy import *\n",
    "from numpy import linspace, pi\n",
    "\n",
    "from scipy.optimize import minimize"
   ]
  },
  {
   "cell_type": "code",
   "execution_count": 2,
   "metadata": {},
   "outputs": [
    {
     "name": "stdout",
     "output_type": "stream",
     "text": [
      "file name:     I:/Cloud/YandexDisk-education@sputnix.ru/Products/OrbiCraft/Tests/Mag_raw_data/mag_K_032_18_filtered.txt\n",
      "first 5 rows of the file:\n"
     ]
    },
    {
     "data": {
      "text/html": [
       "<div>\n",
       "<style>\n",
       "    .dataframe thead tr:only-child th {\n",
       "        text-align: right;\n",
       "    }\n",
       "\n",
       "    .dataframe thead th {\n",
       "        text-align: left;\n",
       "    }\n",
       "\n",
       "    .dataframe tbody tr th {\n",
       "        vertical-align: top;\n",
       "    }\n",
       "</style>\n",
       "<table border=\"1\" class=\"dataframe\">\n",
       "  <thead>\n",
       "    <tr style=\"text-align: right;\">\n",
       "      <th></th>\n",
       "      <th>0</th>\n",
       "      <th>1</th>\n",
       "      <th>2</th>\n",
       "    </tr>\n",
       "  </thead>\n",
       "  <tbody>\n",
       "    <tr>\n",
       "      <th>0</th>\n",
       "      <td>104</td>\n",
       "      <td>-686</td>\n",
       "      <td>-298</td>\n",
       "    </tr>\n",
       "    <tr>\n",
       "      <th>1</th>\n",
       "      <td>104</td>\n",
       "      <td>-686</td>\n",
       "      <td>-296</td>\n",
       "    </tr>\n",
       "    <tr>\n",
       "      <th>2</th>\n",
       "      <td>103</td>\n",
       "      <td>-685</td>\n",
       "      <td>-298</td>\n",
       "    </tr>\n",
       "    <tr>\n",
       "      <th>3</th>\n",
       "      <td>104</td>\n",
       "      <td>-687</td>\n",
       "      <td>-297</td>\n",
       "    </tr>\n",
       "    <tr>\n",
       "      <th>4</th>\n",
       "      <td>111</td>\n",
       "      <td>-685</td>\n",
       "      <td>-296</td>\n",
       "    </tr>\n",
       "  </tbody>\n",
       "</table>\n",
       "</div>"
      ],
      "text/plain": [
       "     0    1    2\n",
       "0  104 -686 -298\n",
       "1  104 -686 -296\n",
       "2  103 -685 -298\n",
       "3  104 -687 -297\n",
       "4  111 -685 -296"
      ]
     },
     "metadata": {},
     "output_type": "display_data"
    },
    {
     "data": {
      "application/vnd.jupyter.widget-view+json": {
       "model_id": "3d85d6bec18348bc8bb1c33081a6508e"
      }
     },
     "metadata": {},
     "output_type": "display_data"
    }
   ],
   "source": [
    "# Create Tk root\n",
    "root = Tk()\n",
    "# Hide the main window\n",
    "root.withdraw()\n",
    "root.call('wm', 'attributes', '.', '-topmost', True)\n",
    "\n",
    "def on_button_clicked(b):\n",
    "    clear_output()\n",
    "    infile = filedialog.askopenfilename(multiple=False,filetypes = ((\"text files\",\"*.txt\"),(\"all files\",\"*.*\")))\n",
    "    %gui tk\n",
    "    print('file name:    ',infile)\n",
    "    print('first 5 rows of the file:')\n",
    "    global df1\n",
    "    df1=pd.read_csv(infile,sep='\\t', header=None)\n",
    "    display(df1.head())\n",
    "    \n",
    "# this line is neede only in auto launch whole notebook mode\n",
    "on_button_clicked(1)\n",
    "    \n",
    "out=widgets.Output()\n",
    "button = widgets.Button(description=\"Open file\")\n",
    "display(button)\n",
    "button.on_click(on_button_clicked)"
   ]
  },
  {
   "cell_type": "code",
   "execution_count": 3,
   "metadata": {},
   "outputs": [
    {
     "name": "stdout",
     "output_type": "stream",
     "text": [
      "xmean= 58.9907284768    ymean= -209.606622517    zmean= -235.315231788\n",
      "rmean= 447.659201103\n"
     ]
    },
    {
     "data": {
      "text/html": [
       "<script>requirejs.config({paths: { 'plotly': ['https://cdn.plot.ly/plotly-latest.min']},});if(!window.Plotly) {{require(['plotly'],function(plotly) {window.Plotly=plotly;});}}</script>"
      ],
      "text/vnd.plotly.v1+html": [
       "<script>requirejs.config({paths: { 'plotly': ['https://cdn.plot.ly/plotly-latest.min']},});if(!window.Plotly) {{require(['plotly'],function(plotly) {window.Plotly=plotly;});}}</script>"
      ]
     },
     "metadata": {},
     "output_type": "display_data"
    }
   ],
   "source": [
    "def show_3d_point_cloud(df):\n",
    "    x, y, z = [df[:,i] for i in [0,1,2]]\n",
    "    trace1 = go.Scatter3d(\n",
    "        x=x,\n",
    "        y=y,\n",
    "        z=z,\n",
    "        mode='markers',\n",
    "        marker=dict(\n",
    "            size=4,\n",
    "            line=dict(\n",
    "                color='rgba(217, 217, 217, 0.14)',\n",
    "                width=0.1\n",
    "            ),\n",
    "            opacity=0.95\n",
    "        )\n",
    "    )\n",
    "    #just a sphere\n",
    "    xmean = np.mean(x)\n",
    "    ymean = np.mean(y)\n",
    "    zmean = np.mean(z)\n",
    "    rmean = np.mean(np.sqrt((x-xmean)**2+(y-ymean)**2+(z-zmean)**2))\n",
    "    print('xmean=',xmean,'   ymean=',ymean,'   zmean=',zmean)\n",
    "    print('rmean=', rmean)\n",
    "    theta = linspace(0,2*pi,100)\n",
    "    phi = linspace(0,pi,100)\n",
    "    x = rmean*outer(cos(theta),sin(phi))\n",
    "    y = rmean*outer(sin(theta),sin(phi))\n",
    "    z = rmean*outer(ones(100),cos(phi))\n",
    "    spheredata = Data([\n",
    "        Surface(\n",
    "            x=x,\n",
    "            y=y,\n",
    "            z=z,\n",
    "            opacity=0.4\n",
    "        )\n",
    "    ])\n",
    "    \n",
    "    data = [trace1,spheredata[0]]\n",
    "    layout = go.Layout(\n",
    "        margin=dict(\n",
    "            l=0,\n",
    "            r=0,\n",
    "            b=0,\n",
    "            t=0\n",
    "        )\n",
    "    )\n",
    "    plotly.offline.init_notebook_mode(connected=True)\n",
    "    fig = go.Figure(data=data, layout=layout)\n",
    "    plotly.offline.plot(fig, filename='simple-3d-scatter.html')\n",
    "    \n",
    "dfnp = df1.values\n",
    "show_3d_point_cloud(dfnp)"
   ]
  },
  {
   "cell_type": "code",
   "execution_count": 4,
   "metadata": {},
   "outputs": [
    {
     "data": {
      "text/plain": [
       "array([[ 0.23231959, -1.53241573, -0.66568497],\n",
       "       [ 0.23231959, -1.53241573, -0.66121728],\n",
       "       [ 0.23008574, -1.53018188, -0.66568497],\n",
       "       ..., \n",
       "       [ 0.94268139, -0.58750049, -0.90023839],\n",
       "       [ 0.97842287, -0.48027607, -0.7840786 ],\n",
       "       [ 0.98959208, -0.43113154, -0.73270023]])"
      ]
     },
     "metadata": {},
     "output_type": "display_data"
    },
    {
     "name": "stdout",
     "output_type": "stream",
     "text": [
      "out= 739.866598715\n"
     ]
    },
    {
     "data": {
      "text/plain": [
       "739.8665987154867"
      ]
     },
     "execution_count": 4,
     "metadata": {},
     "output_type": "execute_result"
    }
   ],
   "source": [
    "# rcal = Acal.rmes+b\n",
    "\n",
    "def f_mag_cal(params):\n",
    "    A_cal = params[0:9].reshape(3,3)\n",
    "    b = params[9:].reshape(3,1)\n",
    "    \n",
    "    x, y, z = [df1.iloc[:,i] for i in [0,1,2]]\n",
    "    xmean = np.mean(x)\n",
    "    ymean = np.mean(y)\n",
    "    zmean = np.mean(z)\n",
    "    rmean = np.mean(np.sqrt((x-xmean)**2+(y-ymean)**2+(z-zmean)**2))\n",
    "    dfnp = np.array(df1.values)\n",
    "\n",
    "    df_cal = np.dot(A_cal,dfnp.transpose()).transpose()+b.transpose()\n",
    "    df_cal_uni = df_cal/rmean\n",
    "    display(df_cal_uni)\n",
    "    \n",
    "    out = np.sum((np.sum(df_cal_uni**2,axis=1)-1)**2)\n",
    "    print ('out=', out)\n",
    "    return out\n",
    "    \n",
    "f_mag_cal(np.append(np.identity(3),np.zeros((3,1))))\n"
   ]
  },
  {
   "cell_type": "code",
   "execution_count": 5,
   "metadata": {},
   "outputs": [
    {
     "name": "stdout",
     "output_type": "stream",
     "text": [
      "[  6.95209001e-01   5.42125788e-01   6.95154110e-01   4.07311224e-01\n",
      "   3.46403399e-01  -8.27569844e-01   7.02792939e-01  -6.33178259e-01\n",
      "  -1.71519949e-01   2.66933723e+02  -1.35725296e+02  -2.05679819e+02]\n"
     ]
    }
   ],
   "source": [
    "x0 = np.append(np.identity(3),np.zeros((3,1)))\n",
    "res = minimize(f_mag_cal, x0, tol=1e-3);\n",
    "clear_output()\n",
    "print (res.x)"
   ]
  },
  {
   "cell_type": "code",
   "execution_count": 8,
   "metadata": {},
   "outputs": [
    {
     "data": {
      "text/plain": [
       "array([[ 0.695209  ,  0.54212579,  0.69515411],\n",
       "       [ 0.40731122,  0.3464034 , -0.82756984],\n",
       "       [ 0.70279294, -0.63317826, -0.17151995]])"
      ]
     },
     "metadata": {},
     "output_type": "display_data"
    },
    {
     "data": {
      "text/plain": [
       "array([[ 266.93372294],\n",
       "       [-135.72529634],\n",
       "       [-205.67981905]])"
      ]
     },
     "metadata": {},
     "output_type": "display_data"
    },
    {
     "name": "stdout",
     "output_type": "stream",
     "text": [
      "xmean= 30.7311023421    ymean= 10.433632565    zmean= 8.85806133707\n",
      "rmean= 445.740368219\n"
     ]
    },
    {
     "data": {
      "text/html": [
       "<script>requirejs.config({paths: { 'plotly': ['https://cdn.plot.ly/plotly-latest.min']},});if(!window.Plotly) {{require(['plotly'],function(plotly) {window.Plotly=plotly;});}}</script>"
      ],
      "text/vnd.plotly.v1+html": [
       "<script>requirejs.config({paths: { 'plotly': ['https://cdn.plot.ly/plotly-latest.min']},});if(!window.Plotly) {{require(['plotly'],function(plotly) {window.Plotly=plotly;});}}</script>"
      ]
     },
     "metadata": {},
     "output_type": "display_data"
    }
   ],
   "source": [
    "temp = np.array(res.x)\n",
    "A_cal = temp[0:9].reshape(3,3)\n",
    "b = temp[9:].reshape(3,1)\n",
    "display(A_cal)\n",
    "display(b)\n",
    "\n",
    "dfnp = np.array(df1.values)\n",
    "df_temp = np.dot(A_cal,dfnp.transpose()).transpose()+b.transpose()\n",
    "show_3d_point_cloud(df_temp)"
   ]
  },
  {
   "cell_type": "code",
   "execution_count": null,
   "metadata": {
    "collapsed": true
   },
   "outputs": [],
   "source": []
  }
 ],
 "metadata": {
  "kernelspec": {
   "display_name": "Python 3",
   "language": "python",
   "name": "python3"
  },
  "language_info": {
   "codemirror_mode": {
    "name": "ipython",
    "version": 3
   },
   "file_extension": ".py",
   "mimetype": "text/x-python",
   "name": "python",
   "nbconvert_exporter": "python",
   "pygments_lexer": "ipython3",
   "version": "3.6.1"
  }
 },
 "nbformat": 4,
 "nbformat_minor": 2
}
